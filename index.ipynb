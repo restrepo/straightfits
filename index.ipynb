{
 "cells": [
  {
   "cell_type": "markdown",
   "metadata": {},
   "source": [
    "# Fit to a curve in a logarithmic plane"
   ]
  },
  {
   "cell_type": "code",
   "execution_count": 1,
   "metadata": {
    "collapsed": false
   },
   "outputs": [
    {
     "name": "stdout",
     "output_type": "stream",
     "text": [
      "Populating the interactive namespace from numpy and matplotlib\n"
     ]
    }
   ],
   "source": [
    "%pylab inline"
   ]
  },
  {
   "cell_type": "code",
   "execution_count": 2,
   "metadata": {
    "collapsed": false
   },
   "outputs": [],
   "source": [
    "import numpy as np\n",
    "import pandas as pd"
   ]
  },
  {
   "cell_type": "markdown",
   "metadata": {},
   "source": [
    "Consider the following set of points:"
   ]
  },
  {
   "cell_type": "code",
   "execution_count": 3,
   "metadata": {
    "collapsed": false
   },
   "outputs": [],
   "source": [
    "df=pd.read_csv('xenon.csv')"
   ]
  },
  {
   "cell_type": "code",
   "execution_count": 4,
   "metadata": {
    "collapsed": false
   },
   "outputs": [
    {
     "data": {
      "text/plain": [
       "Index([u'M', u'sigma'], dtype='object')"
      ]
     },
     "execution_count": 4,
     "metadata": {},
     "output_type": "execute_result"
    }
   ],
   "source": [
    "df.columns"
   ]
  },
  {
   "cell_type": "code",
   "execution_count": 5,
   "metadata": {
    "collapsed": false
   },
   "outputs": [],
   "source": [
    "x=df.columns[0]\n",
    "y=df.columns[1]"
   ]
  },
  {
   "cell_type": "code",
   "execution_count": 6,
   "metadata": {
    "collapsed": false
   },
   "outputs": [
    {
     "data": {
      "text/plain": [
       "[<matplotlib.lines.Line2D at 0x7f51cfde6410>]"
      ]
     },
     "execution_count": 6,
     "metadata": {},
     "output_type": "execute_result"
    },
    {
     "data": {
      "image/png": "[encoded data removed]",
      "text/plain": [
       "<matplotlib.figure.Figure at 0x7f51cfe2b1d0>"
      ]
     },
     "metadata": {},
     "output_type": "display_data"
    }
   ],
   "source": [
    "plt.loglog(df[x],df[y],'ro')"
   ]
  },
  {
   "cell_type": "markdown",
   "metadata": {},
   "source": [
    "## Exponential fit\n",
    "The curve can be decomposed in approximately straight lines. In the $(\\log x,\\log y)$-plan one straight line is described by $y = Ae^{Bx}$ for some $A$ and $B$.\n",
    "\n",
    "From: http://stackoverflow.com/a/3433503/2268280:\n",
    "\n",
    "For fitting $y = Ae^{Bx}$, take the logarithm of both side gives $\\log y = \\log A + Bx$. So just fit $\\log y$ against $x$.\n",
    "### Straight segments\n",
    "Will be obtained by trial and error. If one segment is not good enough it will be possible to delete it.\n",
    "## Object design\n",
    "The object, e,g: `fit`, will be initialized with the `x` and `y` arrays:\n",
    "It will have the following methods\n",
    "* `add_segment(xmin,xmax,ShowPlot=True)`\n",
    "* `del_last_segment()`\n",
    "* `to_csv(file)` to write the data of the fit\n",
    "* `read_csv(file)` to read the data with the fit\n",
    "\n",
    "Once the fit have been build or read it can be used just by calling the object with a point or an array"
   ]
  },
  {
   "cell_type": "code",
   "execution_count": 1,
   "metadata": {
    "collapsed": false
   },
   "outputs": [
    {
     "name": "stdout",
     "output_type": "stream",
     "text": [
      "Overwriting straightfits.py\n"
     ]
    }
   ],
   "source": [
    "%%writefile straightfits.py\n",
    "import pandas as pd\n",
    "import numpy as np\n",
    "import matplotlib.pyplot as plt\n",
    "import sys\n",
    "class straightfits(object):\n",
    "    '''The curve in a loglog plane can be decomposed in approximately straight lines. \n",
    "       In the $(\\log x,\\log y)$-plane one straight line is described by $y = Ae^{Bx}$ for some $A$ and $B$.\n",
    "\n",
    "       From: http://stackoverflow.com/a/3433503/2268280:\n",
    "\n",
    "       For fitting $y = Ae^{Bx}$, take the logarithm of both side gives $\\log y = \\log A + Bx$. \n",
    "       So just fit $\\log y$ against $x$.\n",
    "    '''\n",
    "    A=np.array(0)\n",
    "    B=np.array(0)\n",
    "    corners=np.array([])\n",
    "    def __init__(self,x=[],y=[]):\n",
    "        self.x=np.asarray(x)\n",
    "        self.y=np.asarray(y)\n",
    "        if self.x.shape[0]>0:\n",
    "            self.corners=np.append(self.corners,self.x[0])\n",
    "    def __getitem__(self, key):\n",
    "        if key=='x':\n",
    "            return self.x\n",
    "        elif key=='y': \n",
    "            return self.y\n",
    "        elif key=='corners':\n",
    "            return self.corners\n",
    "        else:\n",
    "            sys.exit('Not key: %s',%key)\n",
    "            \n",
    "    def add_segment(self,xmin,xmax,ShowPlot=True,verbose=False):\n",
    "        '''Add one straight segment to the logarhitmic fit\n",
    "           between xmin and xmax,\n",
    "           WARNING: xmax not inclued in the range of the fit\n",
    "           ShowPlot to check the fit\n",
    "        '''\n",
    "        df=pd.DataFrame()\n",
    "        df['x']=self.x\n",
    "        df['y']=self.y\n",
    "        self.corners=np.append(self.corners,xmax)\n",
    "        d=df[np.logical_and(df.x>=xmin,df.x<=xmax)]\n",
    "        z = np.polyfit(d.x, np.log(d.y), 1)\n",
    "        p = np.poly1d(z)\n",
    "        if verbose:\n",
    "            print 'logy=',p\n",
    "        self.A=np.append( self.A,np.exp(p[0]) )\n",
    "        self.B=np.append( self.B,p[1])\n",
    "        if ShowPlot:\n",
    "            xlin=np.linspace(xmin,xmax)\n",
    "            plt.semilogy(d.x,d.y,'ro')\n",
    "            plt.semilogy(xlin,self.A[-1]*np.exp(self.B[-1]*xlin))\n",
    "        return self.A[-1],self.B[-1]\n",
    "    def delete_last_segment(self):\n",
    "        '''Delete tha last saved straight segment'''\n",
    "        self.A=self.A[:-1]\n",
    "        self.B=self.B[:-1]\n",
    "        self.corners=self.corners[:-1]\n",
    "    \n",
    "    def to_csv(self,csvfile):\n",
    "        '''\n",
    "        Save the fit data to a csv file with colums:\n",
    "        A,B,corners\n",
    "        where: $y = Ae^{Bx}$\n",
    "        '''\n",
    "        df=pd.DataFrame()\n",
    "        df['A']=self.A\n",
    "        df['B']=self.B\n",
    "        df['corners']=self.corners\n",
    "        df.to_csv(csvfile,index=False)\n",
    "        \n",
    "    def read_csv(self,csvfile):\n",
    "        '''\n",
    "        Recover fitted data from a csv file with colums:\n",
    "        A,B,corners\n",
    "        where: $y = Ae^{Bx}$\n",
    "        '''\n",
    "        df=pd.read_csv(csvfile)\n",
    "        self.A=df.A\n",
    "        self.B=df.B\n",
    "        self.corners=df.corners\n",
    "        \n",
    "    def __call__(self,x):\n",
    "        '''\n",
    "        Given an array A and another array B defined by the\n",
    "        values of x in corners, obtain the several values\n",
    "        of $y = Ae^{Bx}$ for any x.\n",
    "        x can be a float or an array of floats\n",
    "        '''\n",
    "        xa=np.asarray(x)\n",
    "        if not np.asarray(x).shape:\n",
    "            xa=np.asarray([x])\n",
    "        \n",
    "        limit=np.array([])\n",
    "        imax=self.corners.shape[0]-1\n",
    "        for xx in xa:\n",
    "            for i in range(1,imax+1):\n",
    "                if xx>=self.corners[i-1] and xx<self.corners[i]:\n",
    "                    limit = np.append( limit,self.A[i]*np.exp(self.B[i]*xx) )\n",
    "                if xx<self.corners[0] or xx>=self.corners[imax]:\n",
    "                    limit = np.append( limit,0.0 )\t\n",
    "                    sys.exit('ERROR: Out of range')\n",
    "                   \n",
    "        if limit.shape[0]==1:\n",
    "            limit=limit[0]\n",
    "        return limit\n",
    "        "
   ]
  },
  {
   "cell_type": "markdown",
   "metadata": {},
   "source": [
    "Intialize class and add first segment. Add a point with the object function and also an array"
   ]
  },
  {
   "cell_type": "code",
   "execution_count": 19,
   "metadata": {
    "collapsed": false
   },
   "outputs": [
    {
     "name": "stdout",
     "output_type": "stream",
     "text": [
      "[  5.41287364e-04   1.53158687e-04   4.33366544e-05   1.22622206e-05]\n",
      "0.000541287364003\n",
      "====================\n",
      "[ 5.94872466  7.        ]\n",
      "[        0.          50021069.28343865]\n",
      "[ 0.         -4.20825252]\n",
      "1.22622206458e-05\n"
     ]
    },
    {
     "data": {
      "image/png": "[encoded data removed]",
      "text/plain": [
       "<matplotlib.figure.Figure at 0x7f51c9f517d0>"
      ]
     },
     "metadata": {},
     "output_type": "display_data"
    }
   ],
   "source": [
    "from straightfits import *\n",
    "df=pd.read_csv('xenon.csv')\n",
    "x=df.columns[0]\n",
    "y=df.columns[1]\n",
    "pf=straightfits(df[x].values,df[y].values)\n",
    "pf.add_segment(df[x].min(),7)\n",
    "xx=np.linspace(6,6.9,4)\n",
    "print pf(xx)\n",
    "#plt.plot(xx,pf(xx),'r-')\n",
    "print pf(6)\n",
    "plt.plot([6],pf(6),'y*')\n",
    "plt.plot([6.8],pf(6.8),'y*')\n",
    "print '='*20\n",
    "print pf.corners\n",
    "print pf.A\n",
    "print pf.B\n",
    "print pf(6.9)"
   ]
  },
  {
   "cell_type": "markdown",
   "metadata": {},
   "source": [
    "Complete the full range by adding straight line segment and deleting them if necessary"
   ]
  },
  {
   "cell_type": "code",
   "execution_count": 20,
   "metadata": {
    "collapsed": false
   },
   "outputs": [
    {
     "data": {
      "text/plain": [
       "(0.00016440454673914573, -0.58862497515820744)"
      ]
     },
     "execution_count": 20,
     "metadata": {},
     "output_type": "execute_result"
    },
    {
     "data": {
      "image/png": "[encoded data removed]",
      "text/plain": [
       "<matplotlib.figure.Figure at 0x7f51ca3f1ed0>"
      ]
     },
     "metadata": {},
     "output_type": "display_data"
    }
   ],
   "source": [
    "pf.add_segment(7,20)"
   ]
  },
  {
   "cell_type": "code",
   "execution_count": 21,
   "metadata": {
    "collapsed": true
   },
   "outputs": [],
   "source": [
    "pf.delete_last_segment()"
   ]
  },
  {
   "cell_type": "code",
   "execution_count": 22,
   "metadata": {
    "collapsed": false
   },
   "outputs": [
    {
     "name": "stdout",
     "output_type": "stream",
     "text": [
      "[  5.94872466   7.          10.        ]\n",
      "[  0.00000000e+00   5.00210693e+07   8.20879914e-02]\n",
      "[ 0.         -4.20825252 -1.32064334]\n",
      "7.93309815073e-06\n"
     ]
    },
    {
     "data": {
      "image/png": "[encoded data removed]",
      "text/plain": [
       "<matplotlib.figure.Figure at 0x7f51c9ebe950>"
      ]
     },
     "metadata": {},
     "output_type": "display_data"
    }
   ],
   "source": [
    "xmax=10\n",
    "pf.add_segment(7,xmax)\n",
    "print pf.corners\n",
    "print pf.A\n",
    "print pf.B\n",
    "print pf(7)"
   ]
  },
  {
   "cell_type": "code",
   "execution_count": 23,
   "metadata": {
    "collapsed": false
   },
   "outputs": [
    {
     "name": "stdout",
     "output_type": "stream",
     "text": [
      "[  5.94872466   7.          10.          15.        ]\n",
      "[  0.00000000e+00   5.00210693e+07   8.20879914e-02   2.48484082e-05]\n",
      "[ 0.         -4.20825252 -1.32064334 -0.48896146]\n"
     ]
    },
    {
     "data": {
      "text/plain": [
       "7.9330981507279611e-06"
      ]
     },
     "execution_count": 23,
     "metadata": {},
     "output_type": "execute_result"
    },
    {
     "data": {
      "image/png": "[encoded data removed]",
      "text/plain": [
       "<matplotlib.figure.Figure at 0x7f51cfcbc310>"
      ]
     },
     "metadata": {},
     "output_type": "display_data"
    }
   ],
   "source": [
    "xmax=15\n",
    "pf.add_segment(10,xmax)\n",
    "print pf.corners\n",
    "print pf.A\n",
    "print pf.B\n",
    "pf(7)"
   ]
  },
  {
   "cell_type": "code",
   "execution_count": 24,
   "metadata": {
    "collapsed": false
   },
   "outputs": [
    {
     "name": "stdout",
     "output_type": "stream",
     "text": [
      "[  5.94872466   7.          10.          15.          25.        ]\n",
      "[  0.00000000e+00   5.00210693e+07   8.20879914e-02   2.48484082e-05\n",
      "   2.02318842e-07]\n",
      "[ 0.         -4.20825252 -1.32064334 -0.48896146 -0.16399112]\n"
     ]
    },
    {
     "data": {
      "text/plain": [
       "7.9330981507279611e-06"
      ]
     },
     "execution_count": 24,
     "metadata": {},
     "output_type": "execute_result"
    },
    {
     "data": {
      "image/png": "[encoded data removed]",
      "text/plain": [
       "<matplotlib.figure.Figure at 0x7f51c9fa5c50>"
      ]
     },
     "metadata": {},
     "output_type": "display_data"
    }
   ],
   "source": [
    "xmax=25\n",
    "pf.add_segment(15,xmax)\n",
    "print pf.corners\n",
    "print pf.A\n",
    "print pf.B\n",
    "pf(7)"
   ]
  },
  {
   "cell_type": "code",
   "execution_count": 25,
   "metadata": {
    "collapsed": false
   },
   "outputs": [
    {
     "data": {
      "text/plain": [
       "(1.3074200094767395e-08, -0.050482470449981963)"
      ]
     },
     "execution_count": 25,
     "metadata": {},
     "output_type": "execute_result"
    },
    {
     "data": {
      "image/png": "[encoded data removed]",
      "text/plain": [
       "<matplotlib.figure.Figure at 0x7f51c9f9d5d0>"
      ]
     },
     "metadata": {},
     "output_type": "display_data"
    }
   ],
   "source": [
    "xmax=35\n",
    "pf.add_segment(25,xmax)"
   ]
  },
  {
   "cell_type": "code",
   "execution_count": 26,
   "metadata": {
    "collapsed": false
   },
   "outputs": [
    {
     "data": {
      "text/plain": [
       "(2.3796910024890402e-09, -0.0023564913676448916)"
      ]
     },
     "execution_count": 26,
     "metadata": {},
     "output_type": "execute_result"
    },
    {
     "data": {
      "image/png": "[encoded data removed]",
      "text/plain": [
       "<matplotlib.figure.Figure at 0x7f51ca29c450>"
      ]
     },
     "metadata": {},
     "output_type": "display_data"
    }
   ],
   "source": [
    "xmax=70\n",
    "pf.add_segment(35,xmax)"
   ]
  },
  {
   "cell_type": "code",
   "execution_count": 27,
   "metadata": {
    "collapsed": false
   },
   "outputs": [
    {
     "data": {
      "text/plain": [
       "4.8701712612678005e-09"
      ]
     },
     "execution_count": 27,
     "metadata": {},
     "output_type": "execute_result"
    },
    {
     "data": {
      "image/png": "[encoded data removed]",
      "text/plain": [
       "<matplotlib.figure.Figure at 0x7f51c9fa5110>"
      ]
     },
     "metadata": {},
     "output_type": "display_data"
    }
   ],
   "source": [
    "xmax=200\n",
    "pf.add_segment(70,xmax)\n",
    "pf(199.9)"
   ]
  },
  {
   "cell_type": "code",
   "execution_count": 28,
   "metadata": {
    "collapsed": false
   },
   "outputs": [
    {
     "data": {
      "text/plain": [
       "4.8556582135649721e-09"
      ]
     },
     "execution_count": 28,
     "metadata": {},
     "output_type": "execute_result"
    },
    {
     "data": {
      "image/png": "[encoded data removed]",
      "text/plain": [
       "<matplotlib.figure.Figure at 0x7f51c9f77390>"
      ]
     },
     "metadata": {},
     "output_type": "display_data"
    }
   ],
   "source": [
    "xmax=500\n",
    "pf.add_segment(200,xmax)\n",
    "pf(200)"
   ]
  },
  {
   "cell_type": "code",
   "execution_count": 29,
   "metadata": {
    "collapsed": false
   },
   "outputs": [
    {
     "data": {
      "text/plain": [
       "4.8556582135649721e-09"
      ]
     },
     "execution_count": 29,
     "metadata": {},
     "output_type": "execute_result"
    },
    {
     "data": {
      "image/png": "[encoded data removed]",
      "text/plain": [
       "<matplotlib.figure.Figure at 0x7f51cfcb36d0>"
      ]
     },
     "metadata": {},
     "output_type": "display_data"
    }
   ],
   "source": [
    "xmax=1500\n",
    "pf.add_segment(500,xmax)\n",
    "pf(200)"
   ]
  },
  {
   "cell_type": "code",
   "execution_count": 30,
   "metadata": {
    "collapsed": false
   },
   "outputs": [
    {
     "name": "stdout",
     "output_type": "stream",
     "text": [
      "[  0.00000000e+00   5.00210693e+07   8.20879914e-02   2.48484082e-05\n",
      "   2.02318842e-07   1.30742001e-08   2.37969100e-09   1.46555154e-09\n",
      "   2.78787281e-09   5.51645767e-09]\n",
      "[  0.00000000e+00  -4.20825252e+00  -1.32064334e+00  -4.88961463e-01\n",
      "  -1.63991118e-01  -5.04824704e-02  -2.35649137e-03   6.00749102e-03\n",
      "   2.77432897e-03   1.38164211e-03]\n",
      "[    5.94872466     7.            10.            15.            25.            35.\n",
      "    70.           200.           500.          1500.        ]\n"
     ]
    },
    {
     "data": {
      "text/plain": [
       "4.8556582135649721e-09"
      ]
     },
     "execution_count": 30,
     "metadata": {},
     "output_type": "execute_result"
    },
    {
     "data": {
      "image/png": "[encoded data removed]",
      "text/plain": [
       "<matplotlib.figure.Figure at 0x7f51ca1b8cd0>"
      ]
     },
     "metadata": {},
     "output_type": "display_data"
    }
   ],
   "source": [
    "print pf.A\n",
    "print pf.B\n",
    "print pf.corners\n",
    "df=pd.DataFrame()\n",
    "df['x']=pf.x\n",
    "df['y']=pf.y\n",
    "df=df[df.x<=xmax]\n",
    "plt.loglog(df.x,df.y,'ro')\n",
    "xx=np.logspace(np.log10(6),np.log10(xmax-0.1))\n",
    "plt.plot(xx,pf(xx),'b-',lw=2)\n",
    "plt.xlim(5,xmax)\n",
    "pf(200)"
   ]
  },
  {
   "cell_type": "markdown",
   "metadata": {},
   "source": [
    "## Save to file"
   ]
  },
  {
   "cell_type": "code",
   "execution_count": 31,
   "metadata": {
    "collapsed": true
   },
   "outputs": [],
   "source": [
    "pf.to_csv('fitxenon.csv')"
   ]
  },
  {
   "cell_type": "markdown",
   "metadata": {},
   "source": [
    "## Recover fit from file"
   ]
  },
  {
   "cell_type": "code",
   "execution_count": 32,
   "metadata": {
    "collapsed": true
   },
   "outputs": [],
   "source": [
    "ff=straightfits()\n",
    "ff.read_csv('fitxenon.csv')"
   ]
  },
  {
   "cell_type": "code",
   "execution_count": 33,
   "metadata": {
    "collapsed": false
   },
   "outputs": [
    {
     "data": {
      "text/plain": [
       "array([ 1500.])"
      ]
     },
     "execution_count": 33,
     "metadata": {},
     "output_type": "execute_result"
    }
   ],
   "source": [
    "ff.corners.values[-1:]"
   ]
  },
  {
   "cell_type": "code",
   "execution_count": 34,
   "metadata": {
    "collapsed": false
   },
   "outputs": [
    {
     "data": {
      "text/plain": [
       "(5, array([ 1500.]))"
      ]
     },
     "execution_count": 34,
     "metadata": {},
     "output_type": "execute_result"
    },
    {
     "data": {
      "image/png": "[encoded data removed]",
      "text/plain": [
       "<matplotlib.figure.Figure at 0x7f51c9fcc750>"
      ]
     },
     "metadata": {},
     "output_type": "display_data"
    }
   ],
   "source": [
    "xx=np.logspace( np.log10(ff.corners.values[0]),np.log10(ff.corners.values[-1:]-0.1) )\n",
    "plt.loglog(xx,ff(xx),'b-',lw=2)\n",
    "plt.xlim(5,ff.corners.values[-1:])"
   ]
  },
  {
   "cell_type": "code",
   "execution_count": null,
   "metadata": {
    "collapsed": true
   },
   "outputs": [],
   "source": [
    "%%bash\n",
    "git commit -am '__getitem__ methord'"
   ]
  }
 ],
 "metadata": {
  "kernelspec": {
   "display_name": "Python 2",
   "language": "python",
   "name": "python2"
  },
  "language_info": {
   "codemirror_mode": {
    "name": "ipython",
    "version": 2
   },
   "file_extension": ".py",
   "mimetype": "text/x-python",
   "name": "python",
   "nbconvert_exporter": "python",
   "pygments_lexer": "ipython2",
   "version": "2.7.9"
  }
 },
 "nbformat": 4,
 "nbformat_minor": 0
}
